{
 "cells": [
  {
   "cell_type": "code",
   "execution_count": 1,
   "id": "ffc748d3",
   "metadata": {},
   "outputs": [
    {
     "ename": "ModuleNotFoundError",
     "evalue": "No module named 'prophet'",
     "output_type": "error",
     "traceback": [
      "\u001b[31m---------------------------------------------------------------------------\u001b[39m",
      "\u001b[31mModuleNotFoundError\u001b[39m                       Traceback (most recent call last)",
      "\u001b[36mCell\u001b[39m\u001b[36m \u001b[39m\u001b[32mIn[1]\u001b[39m\u001b[32m, line 1\u001b[39m\n\u001b[32m----> \u001b[39m\u001b[32m1\u001b[39m \u001b[38;5;28;01mfrom\u001b[39;00m\u001b[38;5;250m \u001b[39m\u001b[34;01mprophet\u001b[39;00m\u001b[38;5;250m \u001b[39m\u001b[38;5;28;01mimport\u001b[39;00m Prophet\n\u001b[32m      3\u001b[39m \u001b[38;5;66;03m# Prepare data\u001b[39;00m\n\u001b[32m      4\u001b[39m df_prophet = df.groupby(\u001b[33m\"\u001b[39m\u001b[33mdate\u001b[39m\u001b[33m\"\u001b[39m)[\u001b[33m\"\u001b[39m\u001b[33msales\u001b[39m\u001b[33m\"\u001b[39m].sum().reset_index()\n",
      "\u001b[31mModuleNotFoundError\u001b[39m: No module named 'prophet'"
     ]
    }
   ],
   "source": [
    "from prophet import Prophet\n",
    "\n",
    "# Prepare data\n",
    "df_prophet = df.groupby(\"date\")[\"sales\"].sum().reset_index()\n",
    "df_prophet.columns = [\"ds\", \"y\"]\n",
    "\n",
    "# Fit model\n",
    "model = Prophet(yearly_seasonality=True, weekly_seasonality=True)\n",
    "model.fit(df_prophet)\n",
    "\n",
    "# Forecast 90 days\n",
    "future = model.make_future_dataframe(periods=90)\n",
    "forecast = model.predict(future)\n",
    "\n",
    "# Save results\n",
    "forecast.to_csv(\"../data/processed/forecast.csv\", index=False)\n"
   ]
  }
 ],
 "metadata": {
  "kernelspec": {
   "display_name": "Python 3",
   "language": "python",
   "name": "python3"
  },
  "language_info": {
   "codemirror_mode": {
    "name": "ipython",
    "version": 3
   },
   "file_extension": ".py",
   "mimetype": "text/x-python",
   "name": "python",
   "nbconvert_exporter": "python",
   "pygments_lexer": "ipython3",
   "version": "3.12.3"
  }
 },
 "nbformat": 4,
 "nbformat_minor": 5
}
